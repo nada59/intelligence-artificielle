{
 "cells": [
  {
   "cell_type": "code",
   "execution_count": 8,
   "id": "d65b2ab1",
   "metadata": {},
   "outputs": [
    {
     "name": "stdout",
     "output_type": "stream",
     "text": [
      "[2002, 2009, 2016, 2023, 2037, 2044, 2051, 2058, 2072, 2079, 2086, 2093, 2107, 2114, 2121, 2128, 2142, 2149, 2156, 2163, 2177, 2184, 2191, 2198, 2212, 2219, 2226, 2233, 2247, 2254, 2261, 2268, 2282, 2289, 2296, 2303, 2317, 2324, 2331, 2338, 2352, 2359, 2366, 2373, 2387, 2394, 2401, 2408, 2422, 2429, 2436, 2443, 2457, 2464, 2471, 2478, 2492, 2499, 2506, 2513, 2527, 2534, 2541, 2548, 2562, 2569, 2576, 2583, 2597, 2604, 2611, 2618, 2632, 2639, 2646, 2653, 2667, 2674, 2681, 2688, 2702, 2709, 2716, 2723, 2737, 2744, 2751, 2758, 2772, 2779, 2786, 2793, 2807, 2814, 2821, 2828, 2842, 2849, 2856, 2863, 2877, 2884, 2891, 2898, 2912, 2919, 2926, 2933, 2947, 2954, 2961, 2968, 2982, 2989, 2996, 3003, 3017, 3024, 3031, 3038, 3052, 3059, 3066, 3073, 3087, 3094, 3101, 3108, 3122, 3129, 3136, 3143, 3157, 3164, 3171, 3178, 3192, 3199]\n"
     ]
    }
   ],
   "source": [
    "#question 1\n",
    "\n",
    "l=[i for i in range(2000,3201) if (i % 7==0) and (i % 5!=0)]        \n",
    "print(l,sep='')  "
   ]
  },
  {
   "cell_type": "code",
   "execution_count": 9,
   "id": "5cd7e4ad",
   "metadata": {},
   "outputs": [
    {
     "name": "stdout",
     "output_type": "stream",
     "text": [
      "5\n",
      "5!= 120\n"
     ]
    }
   ],
   "source": [
    "#Question 2\n",
    "\n",
    "k=int(input())\n",
    "s=1\n",
    "for i in range (k):\n",
    "    s=s+s*i\n",
    "print(str(k)+\"!\"+\"=\",s) "
   ]
  },
  {
   "cell_type": "code",
   "execution_count": 13,
   "id": "74c60ed5",
   "metadata": {},
   "outputs": [
    {
     "name": "stdout",
     "output_type": "stream",
     "text": [
      "8\n"
     ]
    },
    {
     "data": {
      "text/plain": [
       "{1: 1, 2: 4, 3: 9, 4: 16, 5: 25, 6: 36, 7: 49, 8: 64}"
      ]
     },
     "execution_count": 13,
     "metadata": {},
     "output_type": "execute_result"
    }
   ],
   "source": [
    "#question3\n",
    "\n",
    "d={}\n",
    "n=int(input())\n",
    "for i in range(1,n+1):\n",
    "    d[i]=i*i\n",
    "d"
   ]
  },
  {
   "cell_type": "code",
   "execution_count": 33,
   "id": "f1d56ead",
   "metadata": {},
   "outputs": [
    {
     "name": "stdout",
     "output_type": "stream",
     "text": [
      "nada\n",
      "0\n",
      "ada\n"
     ]
    }
   ],
   "source": [
    "#Question 4\n",
    "ch=input()\n",
    "n=int(input())\n",
    "if n<=len(ch):\n",
    "    sh=ch[:n]+ch[n+1:]\n",
    "    print(sh)\n",
    "\n"
   ]
  },
  {
   "cell_type": "code",
   "execution_count": 44,
   "id": "f17b72b5",
   "metadata": {},
   "outputs": [
    {
     "name": "stdout",
     "output_type": "stream",
     "text": [
      "[[0 1]\n",
      " [2 3]\n",
      " [4 5]]\n",
      "[[0, 1], [2, 3], [4, 5]]\n"
     ]
    }
   ],
   "source": [
    "#question5\n",
    "import numpy as np\n",
    "N=np.array([[0,1],[2,3],[4,5]]) \n",
    "print(N)\n",
    "l=[]\n",
    "l=N.tolist()\n",
    "print(l)\n",
    "\n",
    "    \n"
   ]
  },
  {
   "cell_type": "code",
   "execution_count": 45,
   "id": "b935730b",
   "metadata": {},
   "outputs": [
    {
     "name": "stdout",
     "output_type": "stream",
     "text": [
      "[0 1 2]\n",
      "[2 1 0]\n",
      "[[ 1. -1.]\n",
      " [-1.  1.]]\n"
     ]
    }
   ],
   "source": [
    "#Question 6\n",
    "\n",
    "import numpy as np\n",
    "array1=np.array([0,1,2])\n",
    "array2=np.array([2,1,0])\n",
    "print(array1)\n",
    "print(array2)\n",
    "print(np.cov(array1,array2))"
   ]
  },
  {
   "cell_type": "code",
   "execution_count": 57,
   "id": "3f4f3cd4",
   "metadata": {},
   "outputs": [
    {
     "name": "stdout",
     "output_type": "stream",
     "text": [
      "3\n",
      "100\n",
      "150\n",
      "180\n",
      "[100, 150, 180]\n",
      "[333, 500, 600]\n"
     ]
    }
   ],
   "source": [
    "#Question7:\n",
    "\n",
    "D=[]\n",
    "R=[]\n",
    "n=int(input())\n",
    "for i in range (n):\n",
    "    T=int(input())\n",
    "    D.append(T)\n",
    "print(D)    \n",
    "for j in D:\n",
    "    ch=(2 * 50* j)/30\n",
    "    x=round(ch)\n",
    "    R.append(x)\n",
    "print(R)   "
   ]
  },
  {
   "cell_type": "code",
   "execution_count": null,
   "id": "95df5954",
   "metadata": {},
   "outputs": [],
   "source": []
  }
 ],
 "metadata": {
  "kernelspec": {
   "display_name": "Python 3",
   "language": "python",
   "name": "python3"
  },
  "language_info": {
   "codemirror_mode": {
    "name": "ipython",
    "version": 3
   },
   "file_extension": ".py",
   "mimetype": "text/x-python",
   "name": "python",
   "nbconvert_exporter": "python",
   "pygments_lexer": "ipython3",
   "version": "3.8.8"
  }
 },
 "nbformat": 4,
 "nbformat_minor": 5
}
